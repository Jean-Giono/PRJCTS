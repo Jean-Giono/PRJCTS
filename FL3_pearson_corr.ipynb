{
 "cells": [
  {
   "cell_type": "markdown",
   "metadata": {},
   "source": [
    "## Computing the correlation (Pearson product-moment correlation coefficient)"
   ]
  },
  {
   "cell_type": "code",
   "execution_count": 1,
   "metadata": {},
   "outputs": [],
   "source": [
    "def dot_sum(x,y,n):\n",
    "    sum_prod = 0\n",
    "    for i in range(n):\n",
    "        sum_prod = sum_prod + x[i]*y[i]\n",
    "    return sum_prod"
   ]
  },
  {
   "cell_type": "code",
   "execution_count": 2,
   "metadata": {},
   "outputs": [],
   "source": [
    "def es(x,n):\n",
    "    pow_x = list(map(lambda xp:pow(xp,2),x))\n",
    "    s = pow(n * sum(pow_x) - pow(sum(x),2) , 0.5)\n",
    "    return s"
   ]
  },
  {
   "cell_type": "code",
   "execution_count": 3,
   "metadata": {},
   "outputs": [],
   "source": [
    "def rxy(x,y,n):\n",
    "    numer = n * dot_sum(x,y,n) - sum(x) * sum(y)\n",
    "    denom = es(x,n) * es(y,n)\n",
    "    return (round(numer/denom, 2))"
   ]
  },
  {
   "cell_type": "code",
   "execution_count": 4,
   "metadata": {},
   "outputs": [],
   "source": [
    "def readInput(file_path):\n",
    "    lines = []\n",
    "    m = []\n",
    "    p = []\n",
    "    c = []\n",
    "    with open(file_path, 'r') as f:\n",
    "        lines = f.readlines()\n",
    "    n = int(lines[0])\n",
    "    for line in lines[1:]:\n",
    "        mpc_split = line.split() \n",
    "        m.append(int(mpc_split[0]))\n",
    "        p.append(int(mpc_split[1]))\n",
    "        c.append(int(mpc_split[2]))\n",
    "    return (m,p,c,n)"
   ]
  },
  {
   "cell_type": "code",
   "execution_count": 5,
   "metadata": {},
   "outputs": [
    {
     "name": "stdout",
     "output_type": "stream",
     "text": [
      "0.89\n",
      "0.92\n",
      "0.81\n"
     ]
    }
   ],
   "source": [
    "if __name__ == \"__main__\":\n",
    "    ## read input file\n",
    "    m,p,c,n = readInput('FL3_TF.txt')\n",
    "    #m = []\n",
    "    #p = []\n",
    "    #c = []\n",
    "    #n = int(input())\n",
    "    #for _ in range(n):\n",
    "    #    ml,pl,cl = map(int,input().split())\n",
    "    #    m.append(ml)\n",
    "    #    p.append(pl)\n",
    "    #    c.append(cl)\n",
    "    rmp = rxy(m,p,n)\n",
    "    rpc = rxy(p,c,n)\n",
    "    rcm = rxy(c,m,n)\n",
    "    print(rmp, rpc, rcm, sep=\"\\n\")"
   ]
  }
 ],
 "metadata": {
  "kernelspec": {
   "display_name": "Python 3",
   "language": "python",
   "name": "python3"
  },
  "language_info": {
   "codemirror_mode": {
    "name": "ipython",
    "version": 3
   },
   "file_extension": ".py",
   "mimetype": "text/x-python",
   "name": "python",
   "nbconvert_exporter": "python",
   "pygments_lexer": "ipython3",
   "version": "3.7.6"
  }
 },
 "nbformat": 4,
 "nbformat_minor": 4
}
