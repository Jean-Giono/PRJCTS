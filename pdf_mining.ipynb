{
 "cells": [
  {
   "cell_type": "code",
   "execution_count": null,
   "metadata": {},
   "outputs": [],
   "source": [
    "# uncomment the line below if you do not have the package pydf2 installed\n",
    "#conda install -c conda-forge pypdf2"
   ]
  },
  {
   "cell_type": "code",
   "execution_count": 1,
   "metadata": {},
   "outputs": [],
   "source": [
    "import warnings\n",
    "warnings.filterwarnings(\"ignore\")"
   ]
  },
  {
   "cell_type": "code",
   "execution_count": 2,
   "metadata": {},
   "outputs": [],
   "source": [
    "# importing required modules\n",
    "import PyPDF2\n",
    "import re\n",
    "import pandas as pd"
   ]
  },
  {
   "cell_type": "code",
   "execution_count": 28,
   "metadata": {},
   "outputs": [],
   "source": [
    "# path of the file to be mined\n",
    "pdf_file = 'INTERNATIONAL_CLASSIFICATION_OF_GOODS_AN.pdf'\n",
    "# path of the file where the results will be written\n",
    "excel_filename = 'goods_and_services_classification.xlsx'"
   ]
  },
  {
   "cell_type": "code",
   "execution_count": 4,
   "metadata": {},
   "outputs": [],
   "source": [
    "# creating a pdf file object \n",
    "pdfFileObj = open(pdf_file, 'rb')"
   ]
  },
  {
   "cell_type": "code",
   "execution_count": 5,
   "metadata": {},
   "outputs": [],
   "source": [
    "# creating a pdf reader object \n",
    "pdfReader = PyPDF2.PdfFileReader(pdfFileObj)"
   ]
  },
  {
   "cell_type": "code",
   "execution_count": 6,
   "metadata": {},
   "outputs": [
    {
     "name": "stdout",
     "output_type": "stream",
     "text": [
      "193\n"
     ]
    }
   ],
   "source": [
    "# printing number of pages in pdf file \n",
    "print(pdfReader.numPages)"
   ]
  },
  {
   "cell_type": "code",
   "execution_count": 7,
   "metadata": {},
   "outputs": [],
   "source": [
    "# these pages numbers' correspond to the ones that contains goods ans services classes\n",
    "# and their respectives description\n",
    "pages_number = [29, 30, 31]\n",
    "# class 1 to class 34 : goods classfication\n",
    "# class 35 to class 45 : services classification"
   ]
  },
  {
   "cell_type": "code",
   "execution_count": 8,
   "metadata": {},
   "outputs": [],
   "source": [
    "# class pattern\n",
    "class_pattern = 'Class[ 0-9]+'"
   ]
  },
  {
   "cell_type": "code",
   "execution_count": 39,
   "metadata": {},
   "outputs": [],
   "source": [
    "class_names = []\n",
    "class_descriptions = []\n",
    "\n",
    "for page in pages_number:\n",
    "    # creating a page object\n",
    "    pageObj = pdfReader.getPage(page)\n",
    "    # extracting text from page\n",
    "    page_content = pageObj.extractText()\n",
    "    # replacing \"\\n\" by space \" \"\n",
    "    page_content = page_content.replace(\"\\n\", \" \")\n",
    "    # get the classes names in regard to the specified pattern\n",
    "    class_names.extend(re.findall(class_pattern, page_content))\n",
    "    # get the classes descriptions, that match the classes found\n",
    "    # the first element in the list is removed as it corresponds\n",
    "    # to the headline in the corresponding page, which is not needed\n",
    "    class_descriptions.extend(re.split(class_pattern, page_content)[1:]) # check if there is a headline before removing the first element of the list"
   ]
  },
  {
   "cell_type": "code",
   "execution_count": 44,
   "metadata": {},
   "outputs": [],
   "source": [
    "# concatenating the classes names and descriptions into a dataframe for\n",
    "# export purposes\n",
    "df_classes = pd.DataFrame(list(zip(class_names, class_descriptions)),\n",
    "               columns =['Class Name', 'Description'])"
   ]
  },
  {
   "cell_type": "code",
   "execution_count": 47,
   "metadata": {},
   "outputs": [],
   "source": [
    "# saving the dataframe to a csv file\n",
    "df_classes.to_excel(excel_filename, index=False, header=True)"
   ]
  },
  {
   "cell_type": "code",
   "execution_count": 48,
   "metadata": {},
   "outputs": [],
   "source": [
    "# closing the pdf file object\n",
    "pdfFileObj.close()"
   ]
  },
  {
   "cell_type": "code",
   "execution_count": 9,
   "metadata": {},
   "outputs": [],
   "source": [
    "pageObj = pdfReader.getPage(31)"
   ]
  },
  {
   "cell_type": "code",
   "execution_count": 16,
   "metadata": {},
   "outputs": [],
   "source": [
    "page_content = pageObj.extractText()\n",
    "# replacing \"\\n\" by space \" \"\n",
    "page_content = page_content.replace(\"\\n\", \" \")"
   ]
  },
  {
   "cell_type": "code",
   "execution_count": 17,
   "metadata": {},
   "outputs": [],
   "source": [
    "#class_descriptions = re.split(class_pattern, page_content)[1:]\n",
    "class_descriptions = re.split(class_pattern, page_content)"
   ]
  }
 ],
 "metadata": {
  "kernelspec": {
   "display_name": "Python 3",
   "language": "python",
   "name": "python3"
  },
  "language_info": {
   "codemirror_mode": {
    "name": "ipython",
    "version": 3
   },
   "file_extension": ".py",
   "mimetype": "text/x-python",
   "name": "python",
   "nbconvert_exporter": "python",
   "pygments_lexer": "ipython3",
   "version": "3.7.6"
  }
 },
 "nbformat": 4,
 "nbformat_minor": 4
}
